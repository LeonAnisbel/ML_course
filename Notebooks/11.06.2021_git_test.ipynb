{
 "cells": [
  {
   "cell_type": "markdown",
   "id": "43acac91-c248-4f3a-b3fc-0dd267dee5af",
   "metadata": {},
   "source": [
    "### How to create your own git repository ?"
   ]
  },
  {
   "cell_type": "code",
   "execution_count": null,
   "id": "861279a2-9b92-4fd7-8acf-dc543871f0e8",
   "metadata": {},
   "outputs": [],
   "source": []
  }
 ],
 "metadata": {
  "kernelspec": {
   "display_name": "Python (MCN_2021)",
   "language": "python",
   "name": "mcn_2021"
  },
  "language_info": {
   "codemirror_mode": {
    "name": "ipython",
    "version": 3
   },
   "file_extension": ".py",
   "mimetype": "text/x-python",
   "name": "python",
   "nbconvert_exporter": "python",
   "pygments_lexer": "ipython3",
   "version": "3.8.8"
  }
 },
 "nbformat": 4,
 "nbformat_minor": 5
}
